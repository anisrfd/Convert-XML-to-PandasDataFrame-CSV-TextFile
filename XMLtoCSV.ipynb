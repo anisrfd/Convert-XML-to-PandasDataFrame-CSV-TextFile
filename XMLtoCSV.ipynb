{
  "nbformat": 4,
  "nbformat_minor": 0,
  "metadata": {
    "colab": {
      "name": "Untitled14.ipynb",
      "provenance": []
    },
    "kernelspec": {
      "name": "python3",
      "display_name": "Python 3"
    }
  },
  "cells": [
    {
      "cell_type": "code",
      "metadata": {
        "id": "aSaz2n_tJX1V",
        "colab_type": "code",
        "colab": {}
      },
      "source": [
        ""
      ],
      "execution_count": 0,
      "outputs": []
    },
    {
      "cell_type": "code",
      "metadata": {
        "id": "jtrDcYFg6CWa",
        "colab_type": "code",
        "outputId": "058b4b41-3fa2-41ea-eae7-d4a62fb09a91",
        "colab": {
          "base_uri": "https://localhost:8080/",
          "height": 111
        }
      },
      "source": [
        "import pandas as pd \n",
        "import xml.etree.ElementTree as et \n",
        "import glob\n",
        "\n",
        "mylist = [f for f in glob.glob(\"/content/*.xml\")] # '/content/*.xml' folder name with specific file extension\n",
        "df_cols = [\"file name\", \"xmin\", \"ymin\", \"xmax\", \"ymax\"] #column header name of csv file\n",
        "rows = []\n",
        "for list in mylist:\n",
        "  xtree = et.parse(list) # xml file parsing\n",
        "  root = xtree.getroot()\n",
        "  #use ./ for root and then use other child tree name what you want to use\n",
        "  fname=root.find(\"./filename\").text  \n",
        "  xmin= root.find(\"./object/bndbox/xmin\").text\n",
        "  ymin= root.find(\"./object/bndbox/ymin\").text\n",
        "  xmax= root.find(\"./object/bndbox/xmax\").text\n",
        "  ymax= root.find(\"./object/bndbox/ymax\").text\n",
        "\n",
        "  rows.append({\"file name\": fname, \"xmin\": xmin, \n",
        "                  \"ymin\": ymin, \"xmax\": xmax,\"ymax\": ymax})\n",
        "\n",
        "\n",
        "out_df = pd.DataFrame(rows, columns = df_cols) #convert into pandas dataframe\n",
        "out_df.head()\n",
        "out_df.to_csv('numberplate_1.csv',index = False, header=True) # save as csv"
      ],
      "execution_count": 0,
      "outputs": [
        {
          "output_type": "execute_result",
          "data": {
            "text/html": [
              "<div>\n",
              "<style scoped>\n",
              "    .dataframe tbody tr th:only-of-type {\n",
              "        vertical-align: middle;\n",
              "    }\n",
              "\n",
              "    .dataframe tbody tr th {\n",
              "        vertical-align: top;\n",
              "    }\n",
              "\n",
              "    .dataframe thead th {\n",
              "        text-align: right;\n",
              "    }\n",
              "</style>\n",
              "<table border=\"1\" class=\"dataframe\">\n",
              "  <thead>\n",
              "    <tr style=\"text-align: right;\">\n",
              "      <th></th>\n",
              "      <th>file name</th>\n",
              "      <th>xmin</th>\n",
              "      <th>ymin</th>\n",
              "      <th>xmax</th>\n",
              "      <th>ymax</th>\n",
              "    </tr>\n",
              "  </thead>\n",
              "  <tbody>\n",
              "    <tr>\n",
              "      <th>0</th>\n",
              "      <td>1 (6).jpg</td>\n",
              "      <td>133</td>\n",
              "      <td>292</td>\n",
              "      <td>174</td>\n",
              "      <td>332</td>\n",
              "    </tr>\n",
              "    <tr>\n",
              "      <th>1</th>\n",
              "      <td>1 (21).jpg</td>\n",
              "      <td>117</td>\n",
              "      <td>192</td>\n",
              "      <td>271</td>\n",
              "      <td>250</td>\n",
              "    </tr>\n",
              "  </tbody>\n",
              "</table>\n",
              "</div>"
            ],
            "text/plain": [
              "    file name xmin ymin xmax ymax\n",
              "0   1 (6).jpg  133  292  174  332\n",
              "1  1 (21).jpg  117  192  271  250"
            ]
          },
          "metadata": {
            "tags": []
          },
          "execution_count": 19
        }
      ]
    }
  ]
}