{
  "nbformat": 4,
  "nbformat_minor": 0,
  "metadata": {
    "colab": {
      "name": "XMLtoTXT.ipynb",
      "provenance": []
    },
    "kernelspec": {
      "name": "python3",
      "display_name": "Python 3"
    }
  },
  "cells": [
    {
      "cell_type": "code",
      "metadata": {
        "id": "DXZfpxlD6Vrt",
        "colab_type": "code",
        "colab": {}
      },
      "source": [
        "import xml.etree.ElementTree as ET"
      ],
      "execution_count": 0,
      "outputs": []
    },
    {
      "cell_type": "code",
      "metadata": {
        "id": "LfYgFWtT6qY5",
        "colab_type": "code",
        "colab": {}
      },
      "source": [
        "tree = ET.parse(\"XML file directory\")\n",
        "root = tree.getroot()\n",
        "\n",
        "print(root.find(\"./folder\").text)\n",
        "print(root.find(\"./path\").text)\n",
        "print(root.find(\"./object/name\").text)\n",
        "print(root.find(\"./object/bndbox/xmin\").text)\n",
        "print(root.find(\"./object/bndbox/ymin\").text)\n",
        "print(root.find(\"./object/bndbox/xmax\").text)\n",
        "print(root.find(\"./object/bndbox/ymax\").text)\n",
        "print(root.find(\"./object/truncated\").text)\n",
        "fname=root.find(\"./filename\").text\n",
        "\n",
        "xmin= root.find(\"./object/bndbox/xmin\").text\n",
        "ymin= root.find(\"./object/bndbox/ymin\").text\n",
        "xmax= root.find(\"./object/bndbox/xmax\").text\n",
        "ymax= root.find(\"./object/bndbox/ymax\").text\n",
        "trunc= root.find(\"./object/truncated\").text"
      ],
      "execution_count": 0,
      "outputs": []
    },
    {
      "cell_type": "code",
      "metadata": {
        "id": "OJ-LBNNHJEN2",
        "colab_type": "code",
        "colab": {}
      },
      "source": [
        "f= open(\"convertion1.txt\",\"w+\")\n",
        "f.write(trunc+'  '+xmin+' '+ymin+' '+xmax+' '+ymax)\n",
        "f.close() "
      ],
      "execution_count": 0,
      "outputs": []
    }
  ]
}